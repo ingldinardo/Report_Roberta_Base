{
 "cells": [
  {
   "cell_type": "markdown",
   "id": "7a4dcfbe-5ca7-4b0c-aea4-c1b9be6f27b7",
   "metadata": {},
   "source": [
    "<font color = \"green\"> Ho creato un report che mi estrae quasi tutte le informazioni come le vorrei, manca la gestione del profilo e livello </font>"
   ]
  },
  {
   "cell_type": "code",
   "execution_count": 15,
   "id": "f8bcd1b6-929e-42cf-a8e0-7a37aa8d74a6",
   "metadata": {},
   "outputs": [
    {
     "name": "stdout",
     "output_type": "stream",
     "text": [
      "Inserisci anno mese di tuo interesse nella forma AAAAMM:\n"
     ]
    },
    {
     "name": "stdin",
     "output_type": "stream",
     "text": [
      " 202301\n"
     ]
    }
   ],
   "source": [
    "print('Inserisci anno mese di tuo interesse nella forma AAAAMM:')\n",
    "annomese = input()"
   ]
  },
  {
   "cell_type": "code",
   "execution_count": 2,
   "id": "eeea2cf1-14b5-4f3f-99df-c25ff60b49c5",
   "metadata": {},
   "outputs": [],
   "source": [
    "pip install pandas"
   ]
  },
  {
   "cell_type": "code",
   "execution_count": 3,
   "id": "8e8a75ae-b37c-4793-8ebe-d50f19593548",
   "metadata": {},
   "outputs": [],
   "source": [
    "pip install numpy"
   ]
  },
  {
   "cell_type": "code",
   "execution_count": null,
   "id": "fd0111f0-1b79-41f1-9d6c-041c6ca01d38",
   "metadata": {},
   "outputs": [],
   "source": [
    "pip install openpyxl"
   ]
  },
  {
   "cell_type": "code",
   "execution_count": null,
   "id": "125f3fc1-10c3-4314-bc30-522b14a47ae1",
   "metadata": {},
   "outputs": [],
   "source": [
    "pip install cryptography"
   ]
  },
  {
   "cell_type": "code",
   "execution_count": 18,
   "id": "d58db931-aacd-4f2c-962c-0ea1662aa949",
   "metadata": {},
   "outputs": [
    {
     "ename": "InvalidToken",
     "evalue": "",
     "output_type": "error",
     "traceback": [
      "\u001b[1;31m---------------------------------------------------------------------------\u001b[0m",
      "\u001b[1;31mInvalidSignature\u001b[0m                          Traceback (most recent call last)",
      "File \u001b[1;32m~\\anaconda3\\lib\\site-packages\\cryptography\\fernet.py:119\u001b[0m, in \u001b[0;36mFernet._verify_signature\u001b[1;34m(self, data)\u001b[0m\n\u001b[0;32m    118\u001b[0m \u001b[38;5;28;01mtry\u001b[39;00m:\n\u001b[1;32m--> 119\u001b[0m     \u001b[43mh\u001b[49m\u001b[38;5;241;43m.\u001b[39;49m\u001b[43mverify\u001b[49m\u001b[43m(\u001b[49m\u001b[43mdata\u001b[49m\u001b[43m[\u001b[49m\u001b[38;5;241;43m-\u001b[39;49m\u001b[38;5;241;43m32\u001b[39;49m\u001b[43m:\u001b[49m\u001b[43m]\u001b[49m\u001b[43m)\u001b[49m\n\u001b[0;32m    120\u001b[0m \u001b[38;5;28;01mexcept\u001b[39;00m InvalidSignature:\n",
      "File \u001b[1;32m~\\anaconda3\\lib\\site-packages\\cryptography\\hazmat\\primitives\\hmac.py:74\u001b[0m, in \u001b[0;36mHMAC.verify\u001b[1;34m(self, signature)\u001b[0m\n\u001b[0;32m     73\u001b[0m ctx, \u001b[38;5;28mself\u001b[39m\u001b[38;5;241m.\u001b[39m_ctx \u001b[38;5;241m=\u001b[39m \u001b[38;5;28mself\u001b[39m\u001b[38;5;241m.\u001b[39m_ctx, \u001b[38;5;28;01mNone\u001b[39;00m\n\u001b[1;32m---> 74\u001b[0m \u001b[43mctx\u001b[49m\u001b[38;5;241;43m.\u001b[39;49m\u001b[43mverify\u001b[49m\u001b[43m(\u001b[49m\u001b[43msignature\u001b[49m\u001b[43m)\u001b[49m\n",
      "File \u001b[1;32m~\\anaconda3\\lib\\site-packages\\cryptography\\hazmat\\backends\\openssl\\hmac.py:75\u001b[0m, in \u001b[0;36m_HMACContext.verify\u001b[1;34m(self, signature)\u001b[0m\n\u001b[0;32m     74\u001b[0m \u001b[38;5;28;01mif\u001b[39;00m \u001b[38;5;129;01mnot\u001b[39;00m constant_time\u001b[38;5;241m.\u001b[39mbytes_eq(digest, signature):\n\u001b[1;32m---> 75\u001b[0m     \u001b[38;5;28;01mraise\u001b[39;00m InvalidSignature(\u001b[38;5;124m\"\u001b[39m\u001b[38;5;124mSignature did not match digest.\u001b[39m\u001b[38;5;124m\"\u001b[39m)\n",
      "\u001b[1;31mInvalidSignature\u001b[0m: Signature did not match digest.",
      "\nDuring handling of the above exception, another exception occurred:\n",
      "\u001b[1;31mInvalidToken\u001b[0m                              Traceback (most recent call last)",
      "Cell \u001b[1;32mIn[18], line 20\u001b[0m\n\u001b[0;32m     17\u001b[0m     encrypted \u001b[38;5;241m=\u001b[39m enc_file\u001b[38;5;241m.\u001b[39mread()\n\u001b[0;32m     19\u001b[0m \u001b[38;5;66;03m# decrypting the file\u001b[39;00m\n\u001b[1;32m---> 20\u001b[0m decrypted \u001b[38;5;241m=\u001b[39m \u001b[43mfernet\u001b[49m\u001b[38;5;241;43m.\u001b[39;49m\u001b[43mdecrypt\u001b[49m\u001b[43m(\u001b[49m\u001b[43mencrypted\u001b[49m\u001b[43m)\u001b[49m\n\u001b[0;32m     22\u001b[0m \u001b[38;5;66;03m# opening the file in write mode and\u001b[39;00m\n\u001b[0;32m     23\u001b[0m \u001b[38;5;66;03m# writing the decrypted data\u001b[39;00m\n\u001b[0;32m     24\u001b[0m \u001b[38;5;28;01mwith\u001b[39;00m \u001b[38;5;28mopen\u001b[39m(annomese\u001b[38;5;241m+\u001b[39m\u001b[38;5;124m'\u001b[39m\u001b[38;5;124m_Base_Input.csv\u001b[39m\u001b[38;5;124m'\u001b[39m, \u001b[38;5;124m'\u001b[39m\u001b[38;5;124mwb\u001b[39m\u001b[38;5;124m'\u001b[39m) \u001b[38;5;28;01mas\u001b[39;00m dec_file:\n",
      "File \u001b[1;32m~\\anaconda3\\lib\\site-packages\\cryptography\\fernet.py:80\u001b[0m, in \u001b[0;36mFernet.decrypt\u001b[1;34m(self, token, ttl)\u001b[0m\n\u001b[0;32m     78\u001b[0m \u001b[38;5;28;01melse\u001b[39;00m:\n\u001b[0;32m     79\u001b[0m     time_info \u001b[38;5;241m=\u001b[39m (ttl, \u001b[38;5;28mint\u001b[39m(time\u001b[38;5;241m.\u001b[39mtime()))\n\u001b[1;32m---> 80\u001b[0m \u001b[38;5;28;01mreturn\u001b[39;00m \u001b[38;5;28;43mself\u001b[39;49m\u001b[38;5;241;43m.\u001b[39;49m\u001b[43m_decrypt_data\u001b[49m\u001b[43m(\u001b[49m\u001b[43mdata\u001b[49m\u001b[43m,\u001b[49m\u001b[43m \u001b[49m\u001b[43mtimestamp\u001b[49m\u001b[43m,\u001b[49m\u001b[43m \u001b[49m\u001b[43mtime_info\u001b[49m\u001b[43m)\u001b[49m\n",
      "File \u001b[1;32m~\\anaconda3\\lib\\site-packages\\cryptography\\fernet.py:137\u001b[0m, in \u001b[0;36mFernet._decrypt_data\u001b[1;34m(self, data, timestamp, time_info)\u001b[0m\n\u001b[0;32m    134\u001b[0m     \u001b[38;5;28;01mif\u001b[39;00m current_time \u001b[38;5;241m+\u001b[39m _MAX_CLOCK_SKEW \u001b[38;5;241m<\u001b[39m timestamp:\n\u001b[0;32m    135\u001b[0m         \u001b[38;5;28;01mraise\u001b[39;00m InvalidToken\n\u001b[1;32m--> 137\u001b[0m \u001b[38;5;28;43mself\u001b[39;49m\u001b[38;5;241;43m.\u001b[39;49m\u001b[43m_verify_signature\u001b[49m\u001b[43m(\u001b[49m\u001b[43mdata\u001b[49m\u001b[43m)\u001b[49m\n\u001b[0;32m    139\u001b[0m iv \u001b[38;5;241m=\u001b[39m data[\u001b[38;5;241m9\u001b[39m:\u001b[38;5;241m25\u001b[39m]\n\u001b[0;32m    140\u001b[0m ciphertext \u001b[38;5;241m=\u001b[39m data[\u001b[38;5;241m25\u001b[39m:\u001b[38;5;241m-\u001b[39m\u001b[38;5;241m32\u001b[39m]\n",
      "File \u001b[1;32m~\\anaconda3\\lib\\site-packages\\cryptography\\fernet.py:121\u001b[0m, in \u001b[0;36mFernet._verify_signature\u001b[1;34m(self, data)\u001b[0m\n\u001b[0;32m    119\u001b[0m     h\u001b[38;5;241m.\u001b[39mverify(data[\u001b[38;5;241m-\u001b[39m\u001b[38;5;241m32\u001b[39m:])\n\u001b[0;32m    120\u001b[0m \u001b[38;5;28;01mexcept\u001b[39;00m InvalidSignature:\n\u001b[1;32m--> 121\u001b[0m     \u001b[38;5;28;01mraise\u001b[39;00m InvalidToken\n",
      "\u001b[1;31mInvalidToken\u001b[0m: "
     ]
    }
   ],
   "source": [
    "import pandas as pd\n",
    "import numpy as np\n",
    "from cryptography.fernet import Fernet\n",
    "\n",
    "# opening the key\n",
    "#with open('filekey.key', 'rb') as filekey:\n",
    " #   key = filekey.read()\n",
    "\n",
    "key = \"J64ZHFpCWFlS9zT7y5zxuQN1Gb09y7cucne_EhuWyDM=\"\n",
    "    \n",
    "#Effettuo l'import del dataframe che mi proviene dal report di HR Analytics\n",
    "\n",
    "if annomese == \"202301\":\n",
    "    # using the key\n",
    "    fernet = Fernet(key)\n",
    " \n",
    "    # opening the encrypted file\n",
    "    with open(annomese+'_Base_Input.csv', 'rb') as enc_file:\n",
    "        encrypted = enc_file.read()\n",
    " \n",
    "    # decrypting the file\n",
    "    decrypted = fernet.decrypt(encrypted)\n",
    " \n",
    "    # opening the file in write mode and\n",
    "    # writing the decrypted data\n",
    "    with open(annomese+'_Base_Input.csv', 'wb') as dec_file:\n",
    "        dec_file.write(decrypted)\n",
    "        \n",
    "    df_base = pd.read_csv(annomese+'_Base_Input.csv', sep = ';')\n",
    "elif annomese == \"202302\":\n",
    "    df_base = pd.read_csv(annomese+'_Base_Input.csv', sep = ';')\n",
    "elif annomese == \"202303\":\n",
    "    df_base = pd.read_csv(annomese+'_Base_Input.csv', sep = ';')\n",
    "elif annomese == \"202304\":\n",
    "    df_base = pd.read_csv(annomese+'_Base_Input.csv', sep = ';')\n",
    "elif annomese == \"202305\":\n",
    "    df_base = pd.read_csv(annomese+'_Base_Input.csv', sep = ';')\n",
    "elif annomese == \"202306\":\n",
    "    df_base = pd.read_csv(annomese+'_Base_Input.csv', sep = ';')\n",
    "elif annomese == \"202307\":\n",
    "    df_base = pd.read_csv(annomese+'_Base_Input.csv', sep = ';')\n",
    "elif annomese == \"202308\":\n",
    "    df_base = pd.read_csv(annomese+'_Base_Input.csv', sep = ';')\n",
    "elif annomese == \"202309\":\n",
    "    df_base = pd.read_csv(annomese+'_Base_Input.csv', sep = ';')\n",
    "elif annomese == \"202310\":\n",
    "    df_base = pd.read_csv(annomese+'_Base_Input.csv', sep = ';')\n",
    "elif annomese == \"202311\":\n",
    "    df_base = pd.read_csv(annomese+'_Base_Input.csv', sep = ';')\n",
    "else:\n",
    "    df_base = pd.read_csv(annomese+'_Base_Input.csv', sep = ';') \n",
    "    \n",
    "    \n",
    "\n"
   ]
  },
  {
   "cell_type": "markdown",
   "id": "f681c708-6918-4bd9-9349-c4ad5cc7032c",
   "metadata": {},
   "source": [
    "<font color = \"green\"> L'anzianità mi diventa un campo nuovo di nome fascia: </font>"
   ]
  },
  {
   "cell_type": "code",
   "execution_count": 9,
   "id": "ae3ac0ec-1f12-4a6d-a34b-f9a9d1e1772a",
   "metadata": {},
   "outputs": [],
   "source": [
    "df_base['Fascia'] = df_base['Livello Att.'].str[-6:]\n",
    "#df_base['Fascia']"
   ]
  },
  {
   "cell_type": "markdown",
   "id": "39f75b51-5eb3-49d1-a484-a47ee18cc71a",
   "metadata": {},
   "source": [
    "<font color = \"green\"> Il campo \"Livello Att.\" va lavorato sui I - III , nello specifico va rimossa \"Anz\" :</font>"
   ]
  },
  {
   "cell_type": "code",
   "execution_count": 10,
   "id": "4a1bf1e4-202e-453a-9ad8-2fd5af262a19",
   "metadata": {},
   "outputs": [],
   "source": [
    "df_base['Livello Att.'] = df_base['Livello Att.'].str.split('- Anz').str[0]"
   ]
  },
  {
   "cell_type": "code",
   "execution_count": 11,
   "id": "34782b38-24d2-40cd-97cb-7cdf39a76678",
   "metadata": {},
   "outputs": [],
   "source": [
    "df_base['Fascia'] = np.where(df_base['Fascia'].str.startswith('A'), df_base['Fascia'], \"\")"
   ]
  },
  {
   "cell_type": "code",
   "execution_count": 12,
   "id": "5bc8f8b0-b65a-4d7e-bc49-85254cd7106c",
   "metadata": {},
   "outputs": [],
   "source": [
    "# Provo ad esportarlo in Excel:\n",
    "df_base.to_excel(annomese+\"_Base_Output.xlsx\")  "
   ]
  }
 ],
 "metadata": {
  "kernelspec": {
   "display_name": "Python 3 (ipykernel)",
   "language": "python",
   "name": "~ython3"
  },
  "language_info": {
   "codemirror_mode": {
    "name": "ipython",
    "version": 3
   },
   "file_extension": ".py",
   "mimetype": "text/x-python",
   "name": "python",
   "nbconvert_exporter": "python",
   "pygments_lexer": "ipython3",
   "version": "3.9.7"
  }
 },
 "nbformat": 4,
 "nbformat_minor": 5
}
