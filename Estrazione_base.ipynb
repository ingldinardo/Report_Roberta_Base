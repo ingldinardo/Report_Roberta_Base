{
 "cells": [
  {
   "cell_type": "markdown",
   "id": "7a4dcfbe-5ca7-4b0c-aea4-c1b9be6f27b7",
   "metadata": {},
   "source": [
    "<font color = \"green\"> Ho creato un report che mi estrae quasi tutte le informazioni come le vorrei, manca la gestione del profilo e livello </font>"
   ]
  },
  {
   "cell_type": "code",
   "execution_count": 1,
   "id": "f8bcd1b6-929e-42cf-a8e0-7a37aa8d74a6",
   "metadata": {},
   "outputs": [
    {
     "name": "stdout",
     "output_type": "stream",
     "text": [
      "Inserisci anno mese di tuo interesse nella forma AAAAMM:\n"
     ]
    },
    {
     "name": "stdin",
     "output_type": "stream",
     "text": [
      " 202301\n"
     ]
    }
   ],
   "source": [
    "print('Inserisci anno mese di tuo interesse nella forma AAAAMM:')\n",
    "annomese = input()"
   ]
  },
  {
   "cell_type": "code",
   "execution_count": 2,
   "id": "eeea2cf1-14b5-4f3f-99df-c25ff60b49c5",
   "metadata": {},
   "outputs": [],
   "source": [
    "pip install pandas"
   ]
  },
  {
   "cell_type": "code",
   "execution_count": 3,
   "id": "8e8a75ae-b37c-4793-8ebe-d50f19593548",
   "metadata": {},
   "outputs": [],
   "source": [
    "pip install numpy"
   ]
  },
  {
   "cell_type": "code",
   "execution_count": 4,
   "id": "d58db931-aacd-4f2c-962c-0ea1662aa949",
   "metadata": {},
   "outputs": [],
   "source": [
    "import pandas as pd\n",
    "import numpy as np\n",
    "\n",
    "#Effettuo l'import del dataframe che mi proviene dal report di HR Analytics\n",
    "\n",
    "if annomese == \"202301\":\n",
    "    df_base = pd.read_csv(annomese+'_Base_Input.csv', sep = ';')\n",
    "elif annomese == \"202302\":\n",
    "    df_base = pd.read_csv(annomese+'_Base_Input.csv', sep = ';')\n",
    "elif annomese == \"202303\":\n",
    "    df_base = pd.read_csv(annomese+'_Base_Input.csv', sep = ';')\n",
    "elif annomese == \"202304\":\n",
    "    df_base = pd.read_csv(annomese+'_Base_Input.csv', sep = ';')\n",
    "elif annomese == \"202305\":\n",
    "    df_base = pd.read_csv(annomese+'_Base_Input.csv', sep = ';')\n",
    "elif annomese == \"202306\":\n",
    "    df_base = pd.read_csv(annomese+'_Base_Input.csv', sep = ';')\n",
    "elif annomese == \"202307\":\n",
    "    df_base = pd.read_csv(annomese+'_Base_Input.csv', sep = ';')\n",
    "elif annomese == \"202308\":\n",
    "    df_base = pd.read_csv(annomese+'_Base_Input.csv', sep = ';')\n",
    "elif annomese == \"202309\":\n",
    "    df_base = pd.read_csv(annomese+'_Base_Input.csv', sep = ';')\n",
    "elif annomese == \"202310\":\n",
    "    df_base = pd.read_csv(annomese+'_Base_Input.csv', sep = ';')\n",
    "elif annomese == \"202311\":\n",
    "    df_base = pd.read_csv(annomese+'_Base_Input.csv', sep = ';')\n",
    "else:\n",
    "    df_base = pd.read_csv(annomese+'_Base_Input.csv', sep = ';') \n",
    "    \n",
    "    \n",
    "\n"
   ]
  },
  {
   "cell_type": "markdown",
   "id": "f681c708-6918-4bd9-9349-c4ad5cc7032c",
   "metadata": {},
   "source": [
    "<font color = \"green\"> L'anzianità mi diventa un campo nuovo di nome fascia: </font>"
   ]
  },
  {
   "cell_type": "code",
   "execution_count": 5,
   "id": "ae3ac0ec-1f12-4a6d-a34b-f9a9d1e1772a",
   "metadata": {},
   "outputs": [],
   "source": [
    "df_base['Fascia'] = df_base['Livello Att.'].str[-6:]\n",
    "#df_base['Fascia']"
   ]
  },
  {
   "cell_type": "markdown",
   "id": "39f75b51-5eb3-49d1-a484-a47ee18cc71a",
   "metadata": {},
   "source": [
    "<font color = \"green\"> Il campo \"Livello Att.\" va lavorato sui I - III , nello specifico va rimossa \"Anz\" :</font>"
   ]
  },
  {
   "cell_type": "code",
   "execution_count": 6,
   "id": "4a1bf1e4-202e-453a-9ad8-2fd5af262a19",
   "metadata": {},
   "outputs": [],
   "source": [
    "df_base['Livello Att.'] = df_base['Livello Att.'].str.split('- Anz').str[0]"
   ]
  },
  {
   "cell_type": "code",
   "execution_count": 7,
   "id": "34782b38-24d2-40cd-97cb-7cdf39a76678",
   "metadata": {},
   "outputs": [],
   "source": [
    "df_base['Fascia'] = np.where(df_base['Fascia'].str.startswith('A'), df_base['Fascia'], \"\")"
   ]
  },
  {
   "cell_type": "code",
   "execution_count": 8,
   "id": "5bc8f8b0-b65a-4d7e-bc49-85254cd7106c",
   "metadata": {},
   "outputs": [],
   "source": [
    "# Provo ad esportarlo in Excel:\n",
    "df_base.to_excel(annomese+\"_Base_Output.xlsx\")  "
   ]
  },
  {
   "cell_type": "code",
   "execution_count": null,
   "id": "6f4f4af5-6490-4f0f-9262-86a41e84039e",
   "metadata": {},
   "outputs": [],
   "source": []
  }
 ],
 "metadata": {
  "kernelspec": {
   "display_name": "Python 3 (ipykernel)",
   "language": "python",
   "name": "~ython3"
  },
  "language_info": {
   "codemirror_mode": {
    "name": "ipython",
    "version": 3
   },
   "file_extension": ".py",
   "mimetype": "text/x-python",
   "name": "python",
   "nbconvert_exporter": "python",
   "pygments_lexer": "ipython3",
   "version": "3.9.7"
  }
 },
 "nbformat": 4,
 "nbformat_minor": 5
}
